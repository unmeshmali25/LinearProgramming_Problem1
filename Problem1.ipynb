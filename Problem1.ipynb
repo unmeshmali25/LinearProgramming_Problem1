{
 "cells": [
  {
   "cell_type": "markdown",
   "metadata": {},
   "source": [
    "Created on 11/12/2019\n",
    "\n",
    "@author : Unmesh\n",
    "\n",
    "Importing necessary modules"
   ]
  },
  {
   "cell_type": "code",
   "execution_count": 32,
   "metadata": {},
   "outputs": [],
   "source": [
    "import pandas as pd\n",
    "from pulp import *"
   ]
  },
  {
   "cell_type": "markdown",
   "metadata": {},
   "source": [
    "What is the problem?\n",
    "\n",
    "x + y <= 39;\n",
    "4x + 3y <= 72\n",
    "\n",
    "z = 2x + 5y\n",
    "Maximize z"
   ]
  },
  {
   "cell_type": "code",
   "execution_count": 33,
   "metadata": {},
   "outputs": [],
   "source": [
    "# Creating an object for the LP problem\n",
    "prob = pulp.LpProblem(\"z\", pulp.LpMaximize)\n",
    "\n",
    "# Defining decision variables\n",
    "x = LpVariable(\"x\",0, None, LpInteger), \n",
    "y = LpVariable(\"y\",0, None, LpInteger)"
   ]
  },
  {
   "cell_type": "code",
   "execution_count": 34,
   "metadata": {},
   "outputs": [],
   "source": [
    "# Defining z as the objective function\n",
    "prob += 2*x + 5*y"
   ]
  },
  {
   "cell_type": "markdown",
   "metadata": {},
   "source": [
    "The prob object has been created as our objective funciton\n",
    "\n"
   ]
  },
  {
   "cell_type": "code",
   "execution_count": 35,
   "metadata": {},
   "outputs": [],
   "source": [
    "# Defining constraints\n",
    "prob += 1*x + 1*y <= 39\n",
    "prob += 4*x + 3*y <= 72"
   ]
  },
  {
   "cell_type": "code",
   "execution_count": 41,
   "metadata": {},
   "outputs": [
    {
     "name": "stdout",
     "output_type": "stream",
     "text": [
      "Status:  Optimal\n"
     ]
    }
   ],
   "source": [
    "# Solving to get values of x and y so as to maximize the objective funtion (z)\n",
    "prob.solve()\n",
    "print(\"Status: \", LpStatus[prob.status])"
   ]
  },
  {
   "cell_type": "markdown",
   "metadata": {},
   "source": [
    "The status tells us whether the optimization was able to achieve optimal results or not "
   ]
  },
  {
   "cell_type": "code",
   "execution_count": 44,
   "metadata": {},
   "outputs": [
    {
     "name": "stdout",
     "output_type": "stream",
     "text": [
      "x : 0.0\n",
      "y : 24.0\n",
      "z :  120.0\n"
     ]
    }
   ],
   "source": [
    "# Printing values of x,y, and z after optimization \n",
    "for v in prob.variables():\n",
    "    print(v.name, \":\", v.varValue)\n",
    "print(\"z : \", value(prob.objective))"
   ]
  },
  {
   "cell_type": "code",
   "execution_count": null,
   "metadata": {},
   "outputs": [],
   "source": []
  },
  {
   "cell_type": "code",
   "execution_count": null,
   "metadata": {},
   "outputs": [],
   "source": []
  }
 ],
 "metadata": {
  "kernelspec": {
   "display_name": "Python 3",
   "language": "python",
   "name": "python3"
  },
  "language_info": {
   "codemirror_mode": {
    "name": "ipython",
    "version": 3
   },
   "file_extension": ".py",
   "mimetype": "text/x-python",
   "name": "python",
   "nbconvert_exporter": "python",
   "pygments_lexer": "ipython3",
   "version": "3.7.3"
  }
 },
 "nbformat": 4,
 "nbformat_minor": 4
}
